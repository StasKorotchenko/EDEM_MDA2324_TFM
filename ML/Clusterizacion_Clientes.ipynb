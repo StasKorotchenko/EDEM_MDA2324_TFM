{
  "cells": [
    {
      "cell_type": "code",
      "execution_count": 1,
      "metadata": {
        "id": "CIePsjSc6WSs"
      },
      "outputs": [],
      "source": [
        "import pandas as pd\n",
        "import numpy as np\n",
        "from sklearn.preprocessing import StandardScaler\n",
        "from sklearn.cluster import KMeans\n",
        "from sklearn.metrics import silhouette_score\n",
        "import matplotlib.pyplot as plt\n",
        "import seaborn as sns"
      ]
    },
    {
      "cell_type": "code",
      "execution_count": 2,
      "metadata": {
        "id": "o8yol5EI6YJD"
      },
      "outputs": [],
      "source": [
        "# Cargar los archivos CSV\n",
        "sellers = pd.read_csv('sellers.csv')\n",
        "reviews = pd.read_csv('reviews.csv')\n",
        "products = pd.read_csv('products.csv')\n",
        "orders = pd.read_csv('orders.csv')\n",
        "order_payments = pd.read_csv('order_payments.csv')\n",
        "order_items = pd.read_csv('order_items.csv')\n",
        "customers = pd.read_csv('customers.csv')"
      ]
    },
    {
      "cell_type": "code",
      "source": [
        "# Unir los DataFrames\n",
        "df = pd.merge(orders, customers, on='customer_id')\n",
        "df = pd.merge(df, order_payments, on='order_id')\n",
        "df = pd.merge(df, order_items, on='order_id')\n",
        "df = pd.merge(df, reviews, on='order_id', how='left')\n",
        "\n",
        "# Mostrar las primeras filas del DataFrame\n",
        "print(df.head())"
      ],
      "metadata": {
        "colab": {
          "base_uri": "https://localhost:8080/"
        },
        "id": "0WDeuBfNi7cQ",
        "outputId": "0c9785f1-d96f-4a94-9bb3-70f880fe2284"
      },
      "execution_count": 3,
      "outputs": [
        {
          "output_type": "stream",
          "name": "stdout",
          "text": [
            "                           order_id                       customer_id  \\\n",
            "0  1582d3d1c7a4c1fd7b5857c7e6c084bb  c1d75069901ff3b203405a36de0c653b   \n",
            "1  1582d3d1c7a4c1fd7b5857c7e6c084bb  c1d75069901ff3b203405a36de0c653b   \n",
            "2  1582d3d1c7a4c1fd7b5857c7e6c084bb  c1d75069901ff3b203405a36de0c653b   \n",
            "3  770a0411b7850b3d8f8c55cd41316eb9  d12b894fe079585668a12171ef6d3a9c   \n",
            "4  64cafa9458e5376e77efcce3c095e541  1df65b523d72a0bb1e1716380fb5cf81   \n",
            "\n",
            "      status   purchase_timestamp          approved_at delivered_courier_date  \\\n",
            "0  delivered  2022-10-02 10:56:33  2022-10-02 11:07:15    2022-10-04 19:55:00   \n",
            "1  delivered  2022-10-02 10:56:33  2022-10-02 11:07:15    2022-10-04 19:55:00   \n",
            "2  delivered  2022-10-02 10:56:33  2022-10-02 11:07:15    2022-10-04 19:55:00   \n",
            "3  delivered  2023-07-24 20:41:37  2023-07-26 03:24:27    2023-07-26 14:31:00   \n",
            "4  delivered  2023-08-08 08:38:49  2023-08-08 08:55:23    2023-08-08 13:50:00   \n",
            "\n",
            "  delivered_customer_date estimated_delivery_date  \\\n",
            "0     2022-10-10 21:25:13              2022-10-18   \n",
            "1     2022-10-10 21:25:13              2022-10-18   \n",
            "2     2022-10-10 21:25:13              2022-10-18   \n",
            "3     2023-08-07 15:27:45              2023-08-13   \n",
            "4     2023-08-17 18:06:29              2023-09-04   \n",
            "\n",
            "                 customer_unique_id  postal_code  ...  \\\n",
            "0  317117b1f506acd43bf349062377969a      1244817  ...   \n",
            "1  317117b1f506acd43bf349062377969a      1244817  ...   \n",
            "2  317117b1f506acd43bf349062377969a      1244817  ...   \n",
            "3  32d650abe4768614c51c8036637e1da6      1235615  ...   \n",
            "4  4005f41bc4b5abd45a19fdbe041c21d1      1237195  ...   \n",
            "\n",
            "                         product_id                         seller_id  \\\n",
            "0  90999cd36d5663a2c6d47596f5691e5d  c81a68076c4073d5ce40aff52ebbabd7   \n",
            "1  90999cd36d5663a2c6d47596f5691e5d  c81a68076c4073d5ce40aff52ebbabd7   \n",
            "2  90999cd36d5663a2c6d47596f5691e5d  c81a68076c4073d5ce40aff52ebbabd7   \n",
            "3  fc42bc898ce4a1b9d74f29a850546570  083885d98eee8515fe9c89d63ccc653f   \n",
            "4  3b83e8e2b3729c7fa2327b09486e7197  c09a415f1cd37aeb9537ba6c51169f66   \n",
            "\n",
            "   shipping_limit_date   price freight_value  \\\n",
            "0  2022-10-06 13:07:15   29.99          8.72   \n",
            "1  2022-10-06 13:07:15   29.99          8.72   \n",
            "2  2022-10-06 13:07:15   29.99          8.72   \n",
            "3  2023-07-30 05:24:27  118.70         22.76   \n",
            "4  2023-08-13 10:55:23  159.90         19.22   \n",
            "\n",
            "                          review_id score  has_comment  review_creation_date  \\\n",
            "0  f451806b7c2d8eb76a0e1f6ff9b55c62     4          1.0   2022-10-11 02:00:00   \n",
            "1  f451806b7c2d8eb76a0e1f6ff9b55c62     4          1.0   2022-10-11 02:00:00   \n",
            "2  f451806b7c2d8eb76a0e1f6ff9b55c62     4          1.0   2022-10-11 02:00:00   \n",
            "3  b28f7559045db91c690a0a6b6f469372     4          1.0   2023-08-08 02:00:00   \n",
            "4  3b3b9adb5c97986ff691aa9bbe018318     5          0.0   2023-08-18 02:00:00   \n",
            "\n",
            "  review_answer_timestamp  \n",
            "0     2022-10-12 05:43:48  \n",
            "1     2022-10-12 05:43:48  \n",
            "2     2022-10-12 05:43:48  \n",
            "3     2023-08-08 20:37:50  \n",
            "4     2023-08-22 21:07:58  \n",
            "\n",
            "[5 rows x 24 columns]\n"
          ]
        }
      ]
    },
    {
      "cell_type": "code",
      "source": [
        "# Eliminar duplicados\n",
        "df.drop_duplicates(inplace=True)\n",
        "\n",
        "# Rellenar valores nulos\n",
        "df.fillna({\n",
        "    'review_id': 'no_review',\n",
        "    'score': 0,\n",
        "    'has_comment': 0,\n",
        "    'review_creation_date': pd.Timestamp.now(),\n",
        "    'review_answer_timestamp': pd.Timestamp.now()\n",
        "}, inplace=True)\n",
        "\n",
        "# Rellenar valores nulos en columnas numéricas y categóricas\n",
        "num_cols = df.select_dtypes(include=['float64', 'int64']).columns\n",
        "df[num_cols] = df[num_cols].fillna(df[num_cols].mean())\n",
        "\n",
        "cat_cols = df.select_dtypes(include=['object']).columns\n",
        "df[cat_cols] = df[cat_cols].fillna(df[cat_cols].mode().iloc[0])\n",
        "\n",
        "# Convertir columnas a tipo datetime\n",
        "df['purchase_timestamp'] = pd.to_datetime(df['purchase_timestamp'])\n",
        "df['approved_at'] = pd.to_datetime(df['approved_at'])\n",
        "df['delivered_courier_date'] = pd.to_datetime(df['delivered_courier_date'])\n",
        "df['delivered_customer_date'] = pd.to_datetime(df['delivered_customer_date'])\n",
        "df['estimated_delivery_date'] = pd.to_datetime(df['estimated_delivery_date'])\n",
        "df['review_creation_date'] = pd.to_datetime(df['review_creation_date'])\n",
        "df['review_answer_timestamp'] = pd.to_datetime(df['review_answer_timestamp'])\n",
        "\n",
        "# Corregir tipo de dato para la columna 'score'\n",
        "df['score'] = df['score'].replace('s', 5).astype(float)\n",
        "\n",
        "# Eliminar columnas no necesarias\n",
        "columns_to_drop = ['postal_code', 'shipping_limit_date', 'freight_value']\n",
        "df.drop(columns=columns_to_drop, inplace=True)"
      ],
      "metadata": {
        "id": "XNHaAfUWjrgl"
      },
      "execution_count": 4,
      "outputs": []
    },
    {
      "cell_type": "code",
      "source": [
        "customer_features = df.groupby('customer_id').agg({\n",
        "    'amount': 'sum',  # Total Gastado\n",
        "    'order_id': 'count',  # Frecuencia de Compra\n",
        "    'price': 'mean',  # Valor Medio de Compra\n",
        "    'review_id': 'count',  # Número de Reseñas\n",
        "    'score': 'mean'  # Puntuación Media de Reseñas\n",
        "}).rename(columns={\n",
        "    'amount': 'total_spent',\n",
        "    'order_id': 'purchase_frequency',\n",
        "    'price': 'average_order_value',\n",
        "    'review_id': 'num_reviews',\n",
        "    'score': 'avg_review_score'\n",
        "})\n",
        "\n",
        "scaler = StandardScaler()\n",
        "customer_features_scaled = scaler.fit_transform(customer_features)\n",
        "customer_df = pd.DataFrame(customer_features_scaled, columns=customer_features.columns, index=customer_features.index)"
      ],
      "metadata": {
        "id": "wtDlDxYskZ6l"
      },
      "execution_count": 5,
      "outputs": []
    },
    {
      "cell_type": "code",
      "source": [
        "# Entrenar el modelo K-Means\n",
        "kmeans = KMeans(n_clusters=8, random_state=42)\n",
        "clusters = kmeans.fit_predict(customer_df)\n",
        "\n",
        "# Añadir los clusters al DataFrame original de características\n",
        "customer_df['cluster'] = clusters\n",
        "\n",
        "# Mostrar las primeras filas del DataFrame con los clusters añadidos\n",
        "print(customer_df.head())\n",
        "\n",
        "# Visualización de los clusters\n",
        "plt.figure(figsize=(10, 6))\n",
        "sns.scatterplot(data=customer_df, x='total_spent', y='average_order_value', hue='cluster', palette='viridis')\n",
        "plt.title('Clusters de Clientes')\n",
        "plt.show()"
      ],
      "metadata": {
        "colab": {
          "base_uri": "https://localhost:8080/",
          "height": 1000
        },
        "id": "E0yKL05HlZtZ",
        "outputId": "acc300fb-bd2d-4bfb-87ce-cfe61b3f8e51"
      },
      "execution_count": 7,
      "outputs": [
        {
          "output_type": "stream",
          "name": "stderr",
          "text": [
            "/usr/local/lib/python3.10/dist-packages/sklearn/cluster/_kmeans.py:870: FutureWarning: The default value of `n_init` will change from 10 to 'auto' in 1.4. Set the value of `n_init` explicitly to suppress the warning\n",
            "  warnings.warn(\n"
          ]
        },
        {
          "output_type": "stream",
          "name": "stdout",
          "text": [
            "                                  total_spent  purchase_frequency  \\\n",
            "customer_id                                                         \n",
            "00003a19b38e4e3ad8ec20246517646f    -0.003186           -0.182796   \n",
            "00008d3f597f55ff320cdebaff0a6c93    -0.003177            3.823768   \n",
            "0000d80011d72fb4a403400918d26093    -0.003183           -0.182796   \n",
            "0002972a13a3e29bede5fc2efdf88f76    -0.003166           -0.182796   \n",
            "0002aaa03c477e93b8d6a1d5958bbcbc    -0.003182           -0.182796   \n",
            "\n",
            "                                  average_order_value  num_reviews  \\\n",
            "customer_id                                                          \n",
            "00003a19b38e4e3ad8ec20246517646f            -0.262018    -0.182796   \n",
            "00008d3f597f55ff320cdebaff0a6c93            -0.492744     3.823768   \n",
            "0000d80011d72fb4a403400918d26093             0.052132    -0.182796   \n",
            "0002972a13a3e29bede5fc2efdf88f76             3.003052    -0.182796   \n",
            "0002aaa03c477e93b8d6a1d5958bbcbc             0.125905    -0.182796   \n",
            "\n",
            "                                  avg_review_score  cluster  \n",
            "customer_id                                                  \n",
            "00003a19b38e4e3ad8ec20246517646f          0.674843        0  \n",
            "00008d3f597f55ff320cdebaff0a6c93          0.674843        4  \n",
            "0000d80011d72fb4a403400918d26093          0.674843        0  \n",
            "0002972a13a3e29bede5fc2efdf88f76         -2.240005        5  \n",
            "0002aaa03c477e93b8d6a1d5958bbcbc         -0.053869        1  \n"
          ]
        },
        {
          "output_type": "display_data",
          "data": {
            "text/plain": [
              "<Figure size 1000x600 with 1 Axes>"
            ],
            "image/png": "[encoded data removed]"
          },
          "metadata": {}
        }
      ]
    }
  ],
  "metadata": {
    "accelerator": "GPU",
    "colab": {
      "gpuType": "T4",
      "provenance": []
    },
    "kernelspec": {
      "display_name": "Python 3",
      "name": "python3"
    },
    "language_info": {
      "name": "python"
    }
  },
  "nbformat": 4,
  "nbformat_minor": 0
}