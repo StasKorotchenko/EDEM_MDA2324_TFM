{
  "nbformat": 4,
  "nbformat_minor": 0,
  "metadata": {
    "colab": {
      "provenance": []
    },
    "kernelspec": {
      "name": "python3",
      "display_name": "Python 3"
    },
    "language_info": {
      "name": "python"
    }
  },
  "cells": [
    {
      "cell_type": "code",
      "source": [
        "!sudo apt-get update\n",
        "!sudo apt-get install -y build-essential python3-dev"
      ],
      "metadata": {
        "colab": {
          "base_uri": "https://localhost:8080/"
        },
        "id": "SAcgEo9HcoPQ",
        "outputId": "00474e9e-64a2-4282-ef1f-0396c0b8b0b1"
      },
      "execution_count": 1,
      "outputs": [
        {
          "output_type": "stream",
          "name": "stdout",
          "text": [
            "\r0% [Working]\r            \rGet:1 https://cloud.r-project.org/bin/linux/ubuntu jammy-cran40/ InRelease [3,626 B]\n",
            "\r0% [Connecting to archive.ubuntu.com (185.125.190.81)] [Waiting for headers] [1\r0% [Connecting to archive.ubuntu.com (185.125.190.81)] [Waiting for headers] [W\r                                                                               \rHit:2 https://developer.download.nvidia.com/compute/cuda/repos/ubuntu2204/x86_64  InRelease\n",
            "Ign:3 https://r2u.stat.illinois.edu/ubuntu jammy InRelease\n",
            "Hit:4 https://r2u.stat.illinois.edu/ubuntu jammy Release\n",
            "Hit:5 http://security.ubuntu.com/ubuntu jammy-security InRelease\n",
            "Hit:6 http://archive.ubuntu.com/ubuntu jammy InRelease\n",
            "Hit:7 http://archive.ubuntu.com/ubuntu jammy-updates InRelease\n",
            "Hit:9 http://archive.ubuntu.com/ubuntu jammy-backports InRelease\n",
            "Hit:10 https://ppa.launchpadcontent.net/deadsnakes/ppa/ubuntu jammy InRelease\n",
            "Hit:11 https://ppa.launchpadcontent.net/graphics-drivers/ppa/ubuntu jammy InRelease\n",
            "Hit:12 https://ppa.launchpadcontent.net/ubuntugis/ppa/ubuntu jammy InRelease\n",
            "Fetched 3,626 B in 3s (1,201 B/s)\n",
            "Reading package lists... Done\n",
            "W: Skipping acquire of configured file 'main/source/Sources' as repository 'https://r2u.stat.illinois.edu/ubuntu jammy InRelease' does not seem to provide it (sources.list entry misspelt?)\n",
            "Reading package lists... Done\n",
            "Building dependency tree... Done\n",
            "Reading state information... Done\n",
            "build-essential is already the newest version (12.9ubuntu3).\n",
            "python3-dev is already the newest version (3.10.6-1~22.04).\n",
            "0 upgraded, 0 newly installed, 0 to remove and 58 not upgraded.\n"
          ]
        }
      ]
    },
    {
      "cell_type": "code",
      "source": [
        "!pip install pystan==2.19.1.1"
      ],
      "metadata": {
        "colab": {
          "base_uri": "https://localhost:8080/"
        },
        "id": "L3kZ0dvScXJt",
        "outputId": "d2bb4cec-479e-4568-bec6-d59eb84151c2"
      },
      "execution_count": 2,
      "outputs": [
        {
          "output_type": "stream",
          "name": "stdout",
          "text": [
            "Collecting pystan==2.19.1.1\n",
            "  Using cached pystan-2.19.1.1.tar.gz (16.2 MB)\n",
            "  Preparing metadata (setup.py) ... \u001b[?25l\u001b[?25hdone\n",
            "Requirement already satisfied: Cython!=0.25.1,>=0.22 in /usr/local/lib/python3.10/dist-packages (from pystan==2.19.1.1) (3.0.10)\n",
            "Requirement already satisfied: numpy>=1.7 in /usr/local/lib/python3.10/dist-packages (from pystan==2.19.1.1) (1.26.4)\n",
            "Building wheels for collected packages: pystan\n",
            "  Building wheel for pystan (setup.py) ... \u001b[?25l\u001b[?25hcanceled\n",
            "\u001b[31mERROR: Operation cancelled by user\u001b[0m\u001b[31m\n",
            "\u001b[0m"
          ]
        }
      ]
    },
    {
      "cell_type": "code",
      "execution_count": 3,
      "metadata": {
        "colab": {
          "base_uri": "https://localhost:8080/"
        },
        "id": "Rfz6IKRJbSeX",
        "outputId": "fcbfa12e-cfe4-40bb-d141-32cde2a9f434"
      },
      "outputs": [
        {
          "output_type": "stream",
          "name": "stdout",
          "text": [
            "Requirement already satisfied: prophet in /usr/local/lib/python3.10/dist-packages (1.1.5)\n",
            "Requirement already satisfied: cmdstanpy>=1.0.4 in /usr/local/lib/python3.10/dist-packages (from prophet) (1.2.4)\n",
            "Requirement already satisfied: numpy>=1.15.4 in /usr/local/lib/python3.10/dist-packages (from prophet) (1.26.4)\n",
            "Requirement already satisfied: matplotlib>=2.0.0 in /usr/local/lib/python3.10/dist-packages (from prophet) (3.7.1)\n",
            "Requirement already satisfied: pandas>=1.0.4 in /usr/local/lib/python3.10/dist-packages (from prophet) (2.1.4)\n",
            "Requirement already satisfied: holidays>=0.25 in /usr/local/lib/python3.10/dist-packages (from prophet) (0.53)\n",
            "Requirement already satisfied: tqdm>=4.36.1 in /usr/local/lib/python3.10/dist-packages (from prophet) (4.66.4)\n",
            "Requirement already satisfied: importlib-resources in /usr/local/lib/python3.10/dist-packages (from prophet) (6.4.0)\n",
            "Requirement already satisfied: stanio<2.0.0,>=0.4.0 in /usr/local/lib/python3.10/dist-packages (from cmdstanpy>=1.0.4->prophet) (0.5.1)\n",
            "Requirement already satisfied: python-dateutil in /usr/local/lib/python3.10/dist-packages (from holidays>=0.25->prophet) (2.8.2)\n",
            "Requirement already satisfied: contourpy>=1.0.1 in /usr/local/lib/python3.10/dist-packages (from matplotlib>=2.0.0->prophet) (1.2.1)\n",
            "Requirement already satisfied: cycler>=0.10 in /usr/local/lib/python3.10/dist-packages (from matplotlib>=2.0.0->prophet) (0.12.1)\n",
            "Requirement already satisfied: fonttools>=4.22.0 in /usr/local/lib/python3.10/dist-packages (from matplotlib>=2.0.0->prophet) (4.53.1)\n",
            "Requirement already satisfied: kiwisolver>=1.0.1 in /usr/local/lib/python3.10/dist-packages (from matplotlib>=2.0.0->prophet) (1.4.5)\n",
            "Requirement already satisfied: packaging>=20.0 in /usr/local/lib/python3.10/dist-packages (from matplotlib>=2.0.0->prophet) (24.1)\n",
            "Requirement already satisfied: pillow>=6.2.0 in /usr/local/lib/python3.10/dist-packages (from matplotlib>=2.0.0->prophet) (9.4.0)\n",
            "Requirement already satisfied: pyparsing>=2.3.1 in /usr/local/lib/python3.10/dist-packages (from matplotlib>=2.0.0->prophet) (3.1.2)\n",
            "Requirement already satisfied: pytz>=2020.1 in /usr/local/lib/python3.10/dist-packages (from pandas>=1.0.4->prophet) (2024.1)\n",
            "Requirement already satisfied: tzdata>=2022.1 in /usr/local/lib/python3.10/dist-packages (from pandas>=1.0.4->prophet) (2024.1)\n",
            "Requirement already satisfied: six>=1.5 in /usr/local/lib/python3.10/dist-packages (from python-dateutil->holidays>=0.25->prophet) (1.16.0)\n"
          ]
        }
      ],
      "source": [
        "!pip install prophet"
      ]
    },
    {
      "cell_type": "code",
      "source": [
        "import pandas as pd\n",
        "from prophet import Prophet\n",
        "import matplotlib.pyplot as plt\n",
        "import joblib"
      ],
      "metadata": {
        "id": "k8nKi7wfeE29"
      },
      "execution_count": 4,
      "outputs": []
    },
    {
      "cell_type": "code",
      "source": [
        "customers = pd.read_csv('customers.csv')\n",
        "order_items = pd.read_csv('order_items.csv')\n",
        "order_payments = pd.read_csv('order_payments.csv')\n",
        "orders = pd.read_csv('orders.csv')\n",
        "products = pd.read_csv('products.csv')\n",
        "reviews = pd.read_csv('reviews.csv')\n",
        "sellers = pd.read_csv('sellers.csv')"
      ],
      "metadata": {
        "id": "Otb25wx2ea3Q"
      },
      "execution_count": 5,
      "outputs": []
    },
    {
      "cell_type": "code",
      "source": [
        "merged_data = pd.merge(orders, order_items, on='order_id')\n",
        "merged_data = pd.merge(merged_data, order_payments, on='order_id')\n",
        "merged_data['purchase_timestamp'] = pd.to_datetime(merged_data['purchase_timestamp'])"
      ],
      "metadata": {
        "id": "1u6A8fDlg5op"
      },
      "execution_count": 6,
      "outputs": []
    },
    {
      "cell_type": "code",
      "source": [
        "# Corregir las fechas incorrectas\n",
        "merged_data.loc[merged_data['purchase_timestamp'].dt.year == 2222, 'purchase_timestamp'] = merged_data['purchase_timestamp'].apply(\n",
        "    lambda x: x.replace(year=2022) if x.year == 2222 else x\n",
        ")\n",
        "\n",
        "# Filtrar fechas inusuales (por ejemplo, fuera de un rango razonable)\n",
        "merged_data = merged_data[(merged_data['purchase_timestamp'] >= '2010-01-01') & (merged_data['purchase_timestamp'] <= pd.Timestamp.today())]"
      ],
      "metadata": {
        "id": "_2jGC-GGjLOK"
      },
      "execution_count": 7,
      "outputs": []
    },
    {
      "cell_type": "code",
      "source": [
        "merged_data['order_date'] = merged_data['purchase_timestamp'].dt.date\n",
        "demand_data = merged_data.groupby('order_date').size().reset_index(name='order_count')\n",
        "\n",
        "# Preparar los datos para Prophet\n",
        "demand_data.rename(columns={'order_date': 'ds', 'order_count': 'y'}, inplace=True)\n",
        "\n",
        "print(demand_data.head())"
      ],
      "metadata": {
        "colab": {
          "base_uri": "https://localhost:8080/"
        },
        "id": "v4w-hzzRhBs4",
        "outputId": "e8875acd-3055-4d74-a3d8-3adac3016330"
      },
      "execution_count": 8,
      "outputs": [
        {
          "output_type": "stream",
          "name": "stdout",
          "text": [
            "           ds   y\n",
            "0  2021-09-04   2\n",
            "1  2021-09-05   1\n",
            "2  2021-10-02   1\n",
            "3  2021-10-03   8\n",
            "4  2021-10-04  76\n"
          ]
        }
      ]
    },
    {
      "cell_type": "code",
      "source": [
        "# Definir y entrenar el modelo\n",
        "model = Prophet(daily_seasonality=True)\n",
        "model.fit(demand_data)\n",
        "\n",
        "# Calcular la fecha más reciente de los datos\n",
        "most_recent_date = demand_data['ds'].max()\n",
        "\n",
        "# Parámetro n (número de días para predecir)\n",
        "n = 30\n",
        "\n",
        "\n",
        "# Realizar una predicción para los próximos n días después de la fecha más reciente\n",
        "future = model.make_future_dataframe(periods=n)\n",
        "future = future[future['ds'] > pd.to_datetime(most_recent_date)]  # Filtrar solo las fechas futuras\n",
        "forecast = model.predict(future)"
      ],
      "metadata": {
        "colab": {
          "base_uri": "https://localhost:8080/"
        },
        "id": "LfAOauzlhlTJ",
        "outputId": "83dcbb9a-8510-4f68-8df6-a9a517d4a67b"
      },
      "execution_count": 9,
      "outputs": [
        {
          "output_type": "stream",
          "name": "stderr",
          "text": [
            "INFO:prophet:Disabling yearly seasonality. Run prophet with yearly_seasonality=True to override this.\n",
            "DEBUG:cmdstanpy:input tempfile: /tmp/tmpawl8d5sb/0ptm8rut.json\n",
            "DEBUG:cmdstanpy:input tempfile: /tmp/tmpawl8d5sb/381w84b8.json\n",
            "DEBUG:cmdstanpy:idx 0\n",
            "DEBUG:cmdstanpy:running CmdStan, num_threads: None\n",
            "DEBUG:cmdstanpy:CmdStan args: ['/usr/local/lib/python3.10/dist-packages/prophet/stan_model/prophet_model.bin', 'random', 'seed=35564', 'data', 'file=/tmp/tmpawl8d5sb/0ptm8rut.json', 'init=/tmp/tmpawl8d5sb/381w84b8.json', 'output', 'file=/tmp/tmpawl8d5sb/prophet_model4t7cnmxw/prophet_model-20240730171012.csv', 'method=optimize', 'algorithm=lbfgs', 'iter=10000']\n",
            "17:10:12 - cmdstanpy - INFO - Chain [1] start processing\n",
            "INFO:cmdstanpy:Chain [1] start processing\n",
            "17:10:12 - cmdstanpy - INFO - Chain [1] done processing\n",
            "INFO:cmdstanpy:Chain [1] done processing\n"
          ]
        }
      ]
    },
    {
      "cell_type": "code",
      "source": [
        "# Mostrar la predicción\n",
        "print(forecast[['ds', 'yhat', 'yhat_lower', 'yhat_upper']].tail(n))"
      ],
      "metadata": {
        "colab": {
          "base_uri": "https://localhost:8080/"
        },
        "id": "fysji0VZjlrs",
        "outputId": "529c5bb3-1a6b-4879-8bcb-80cd224ca8c9"
      },
      "execution_count": 10,
      "outputs": [
        {
          "output_type": "stream",
          "name": "stdout",
          "text": [
            "           ds        yhat  yhat_lower  yhat_upper\n",
            "0  2023-09-04  261.001662  165.792032  353.180253\n",
            "1  2023-09-05  252.434856  161.236642  342.592507\n",
            "2  2023-09-06  244.905044  151.702109  340.777663\n",
            "3  2023-09-07  234.285386  143.398532  330.814903\n",
            "4  2023-09-08  187.909346   88.786578  280.463991\n",
            "5  2023-09-09  202.134303  108.673679  297.862669\n",
            "6  2023-09-10  257.030708  165.071242  351.720819\n",
            "7  2023-09-11  259.247232  157.664769  356.329756\n",
            "8  2023-09-12  250.680426  152.562564  341.178760\n",
            "9  2023-09-13  243.150615  144.250538  337.712242\n",
            "10 2023-09-14  232.530956  129.147763  331.758269\n",
            "11 2023-09-15  186.154916   84.766071  282.029620\n",
            "12 2023-09-16  200.379874  105.775377  287.916387\n",
            "13 2023-09-17  255.276278  154.797823  348.390863\n",
            "14 2023-09-18  257.492803  156.625897  341.876632\n",
            "15 2023-09-19  248.925997  141.356704  340.555013\n",
            "16 2023-09-20  241.396186  140.368247  329.679172\n",
            "17 2023-09-21  230.776527  137.085320  324.748515\n",
            "18 2023-09-22  184.400487   84.859861  283.842741\n",
            "19 2023-09-23  198.625444  103.707387  297.209475\n",
            "20 2023-09-24  253.521849  155.111575  346.645521\n",
            "21 2023-09-25  255.738374  160.155327  354.713741\n",
            "22 2023-09-26  247.171568  149.901148  339.259996\n",
            "23 2023-09-27  239.641757  147.543419  337.804990\n",
            "24 2023-09-28  229.022098  137.381483  330.241054\n",
            "25 2023-09-29  182.646058   91.381849  281.293661\n",
            "26 2023-09-30  196.871015  101.957340  291.051773\n",
            "27 2023-10-01  251.767420  154.462544  340.811871\n",
            "28 2023-10-02  253.983944  155.176382  355.328801\n",
            "29 2023-10-03  245.417139  157.463233  341.752459\n"
          ]
        }
      ]
    },
    {
      "cell_type": "code",
      "source": [
        "# Graficar las predicciones\n",
        "fig = model.plot(forecast)\n",
        "plt.axvline(x=most_recent_date, color='r', linestyle='--')\n",
        "plt.show()"
      ],
      "metadata": {
        "colab": {
          "base_uri": "https://localhost:8080/",
          "height": 696
        },
        "id": "8e3hehb_h8gd",
        "outputId": "097846a8-b972-4af6-e2dd-abebba26fd02"
      },
      "execution_count": 11,
      "outputs": [
        {
          "output_type": "stream",
          "name": "stderr",
          "text": [
            "/usr/local/lib/python3.10/dist-packages/prophet/plot.py:72: FutureWarning: The behavior of DatetimeProperties.to_pydatetime is deprecated, in a future version this will return a Series containing python datetime objects instead of an ndarray. To retain the old behavior, call `np.array` on the result\n",
            "  fcst_t = fcst['ds'].dt.to_pydatetime()\n",
            "/usr/local/lib/python3.10/dist-packages/prophet/plot.py:73: FutureWarning: The behavior of DatetimeProperties.to_pydatetime is deprecated, in a future version this will return a Series containing python datetime objects instead of an ndarray. To retain the old behavior, call `np.array` on the result\n",
            "  ax.plot(m.history['ds'].dt.to_pydatetime(), m.history['y'], 'k.',\n"
          ]
        },
        {
          "output_type": "display_data",
          "data": {
            "text/plain": [
              "<Figure size 1000x600 with 1 Axes>"
            ],
            "image/png": "[encoded data removed]"
          },
          "metadata": {}
        }
      ]
    },
    {
      "cell_type": "code",
      "source": [
        "model_filename = 'prophet_model.pkl'\n",
        "joblib.dump(model, model_filename)"
      ],
      "metadata": {
        "colab": {
          "base_uri": "https://localhost:8080/"
        },
        "id": "lrDeJhAAm3EO",
        "outputId": "73a8f751-2d54-4dc8-bbee-6235fa6710d6"
      },
      "execution_count": 12,
      "outputs": [
        {
          "output_type": "execute_result",
          "data": {
            "text/plain": [
              "['prophet_model.pkl']"
            ]
          },
          "metadata": {},
          "execution_count": 12
        }
      ]
    }
  ]
}